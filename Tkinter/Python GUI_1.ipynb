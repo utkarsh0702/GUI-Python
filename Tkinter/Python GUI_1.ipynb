{
 "cells": [
  {
   "cell_type": "code",
   "execution_count": 1,
   "metadata": {},
   "outputs": [],
   "source": [
    "from tkinter import *"
   ]
  },
  {
   "cell_type": "code",
   "execution_count": 3,
   "metadata": {},
   "outputs": [],
   "source": [
    "#creating a blank window\n",
    "root= Tk()     #creating a window\n",
    "root.mainloop()   # does not closes window until close button is pressed"
   ]
  },
  {
   "cell_type": "code",
   "execution_count": 4,
   "metadata": {},
   "outputs": [],
   "source": [
    "# creating a label\n",
    "root=Tk()\n",
    "label= Label(root,text='Hello Python')\n",
    "label.pack()\n",
    "root.mainloop()"
   ]
  },
  {
   "cell_type": "code",
   "execution_count": 5,
   "metadata": {},
   "outputs": [],
   "source": [
    "# adjusting the size of widgets\n",
    "root=Tk()\n",
    "l1=Label(root,text='Red',bg='red')\n",
    "l2=Label(root,text='Green',bg='yellow',fg='green')\n",
    "l1.pack(fill=X)\n",
    "l2.pack(side=LEFT, fill=Y)\n",
    "root.mainloop()"
   ]
  },
  {
   "cell_type": "code",
   "execution_count": 7,
   "metadata": {},
   "outputs": [],
   "source": [
    "#Grid Layout\n",
    "# a small login form\n",
    "root=Tk()\n",
    "l1=Label(root,text='Name')\n",
    "l2=Label(root,text='Password')\n",
    "e1=Entry(root)\n",
    "e2=Entry(root)\n",
    "l1.grid(row=0)\n",
    "e1.grid(row=0, column=1)\n",
    "l2.grid(row=1)\n",
    "e2.grid(row=1, column=1)\n",
    "c1=Checkbutton(root, text='Keep me logged in')\n",
    "c1.grid(columnspan=2)\n",
    "b1=Button(root,text='Log In')\n",
    "b1.grid(columnspan=3)\n",
    "root.mainloop()\n"
   ]
  },
  {
   "cell_type": "code",
   "execution_count": 8,
   "metadata": {},
   "outputs": [
    {
     "name": "stdout",
     "output_type": "stream",
     "text": [
      "I am called\n",
      "I am called\n",
      "I am called\n",
      "I am called\n",
      "I am called\n",
      "I am called\n",
      "I am called\n",
      "I am called\n",
      "I am called\n",
      "I am called\n",
      "I am called\n",
      "I am called\n",
      "I am called\n"
     ]
    }
   ],
   "source": [
    "# binding a function to a button\n",
    "root=Tk()\n",
    "def call():\n",
    "    print('I am called')\n",
    "b1= Button(root, text=\"Click\",command= call)\n",
    "b1.pack()\n",
    "root.mainloop()"
   ]
  },
  {
   "cell_type": "code",
   "execution_count": 14,
   "metadata": {},
   "outputs": [],
   "source": [
    "# setting height and width of the root window\n",
    "root=Tk()\n",
    "root.geometry('300x500+120+120')\n",
    "root.mainloop()"
   ]
  },
  {
   "cell_type": "code",
   "execution_count": 26,
   "metadata": {},
   "outputs": [],
   "source": [
    "# Creating menus and sub menus\n",
    "root=Tk()\n",
    "main_menu= Menu(root)\n",
    "root.config(menu= main_menu)\n",
    "# creating different options\n",
    "file= Menu(main_menu)\n",
    "main_menu.add_cascade(label='File', menu= file)\n",
    "opens= Menu(main_menu)\n",
    "main_menu.add_cascade(label='Open', menu= opens)\n",
    "helps= Menu(main_menu)\n",
    "main_menu.add_cascade(label='Help', menu= helps)\n",
    "\n",
    "#reating a sub menu in the file menu\n",
    "save_as= Menu(file)\n",
    "# creating options in file menu\n",
    "file.add_cascade(label='New')\n",
    "file.add_cascade(label='Open')\n",
    "file.add_separator()\n",
    "file.add_cascade(label='Save')\n",
    "file.add_cascade(label='Save as',menu= save_as)\n",
    "\n",
    "# creating options in save_as menu\n",
    "save_as.add_cascade(label='Computer')\n",
    "save_as.add_cascade(label='Desktop')\n",
    "root.mainloop()"
   ]
  },
  {
   "cell_type": "code",
   "execution_count": null,
   "metadata": {},
   "outputs": [],
   "source": []
  }
 ],
 "metadata": {
  "kernelspec": {
   "display_name": "Python 3",
   "language": "python",
   "name": "python3"
  },
  "language_info": {
   "codemirror_mode": {
    "name": "ipython",
    "version": 3
   },
   "file_extension": ".py",
   "mimetype": "text/x-python",
   "name": "python",
   "nbconvert_exporter": "python",
   "pygments_lexer": "ipython3",
   "version": "3.7.0"
  }
 },
 "nbformat": 4,
 "nbformat_minor": 2
}
