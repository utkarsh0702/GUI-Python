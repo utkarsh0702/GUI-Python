{
 "cells": [
  {
   "cell_type": "code",
   "execution_count": 2,
   "metadata": {},
   "outputs": [],
   "source": [
    "from tkinter import *"
   ]
  },
  {
   "cell_type": "code",
   "execution_count": 32,
   "metadata": {},
   "outputs": [],
   "source": [
    "# text input\n",
    "# function to read all content from text\n",
    "def read():\n",
    "    print(text1.get(1.0,END))\n",
    "\n",
    "# function to read the selected content\n",
    "def  show():\n",
    "    print(text1.selection_get())\n",
    "    \n",
    "#function to give the position of given string\n",
    "def position():\n",
    "    result=text1.get(1.0,END)\n",
    "    pos=text1.search(result,1.0,stopindex=END)\n",
    "    print(pos)\n",
    "\n",
    "    \n",
    "# function to lear the text screen\n",
    "def delete():\n",
    "    text1.delete()\n",
    "    \n",
    "    \n",
    "root= Tk()\n",
    "root.geometry('300x300+120+120')\n",
    "text1= Text(root,width=20, height=10, wrap=WORD,padx=10,pady=10,bd=5)\n",
    "text1.pack()\n",
    "# button to read the content of the text\n",
    "b1=Button(root, text='Show', command= read)\n",
    "b1.pack()\n",
    "\n",
    "# button to read selected content\n",
    "b2=Button(root, text='Show Selected', command= show)\n",
    "b2.pack()\n",
    " \n",
    "# button to give position of the given word\n",
    "b3=Button(root, text='Position', command= position)\n",
    "b3.pack()\n",
    "\n",
    "#button to clear the text plane\n",
    "b4=Button(root, text='Clear', command= delete)\n",
    "b4.pack()\n",
    "\n",
    "\n",
    "root.mainloop()"
   ]
  },
  {
   "cell_type": "code",
   "execution_count": 3,
   "metadata": {},
   "outputs": [],
   "source": [
    "# Scroll bar\n",
    "root=Tk()\n",
    "# creating a frame\n",
    "frame=Frame(root)\n",
    "#creating a scroll bar\n",
    "scroll= Scrollbar(frame)\n",
    "#creating  list box\n",
    "lb=Listbox(frame,yscrollcommand=scroll.set)\n",
    "for i in range(1,100):\n",
    "    lb.insert(END,'List: '+str(i))\n",
    "    \n",
    "lb.pack(side=LEFT)\n",
    "scroll.config(command= lb.yview)\n",
    "scroll.pack(side=RIGHT, fill=Y)\n",
    "frame.pack()\n",
    "root.mainloop()"
   ]
  },
  {
   "cell_type": "code",
   "execution_count": 17,
   "metadata": {},
   "outputs": [],
   "source": [
    "from tkinter import simpledialog"
   ]
  },
  {
   "cell_type": "code",
   "execution_count": 20,
   "metadata": {},
   "outputs": [
    {
     "name": "stdout",
     "output_type": "stream",
     "text": [
      "bikaner\n"
     ]
    }
   ],
   "source": [
    "# input through pop up window/ dialog box\n",
    "root= Tk()\n",
    "def call():\n",
    "    s= simpledialog.askstring('Input String','Please enter your name:')\n",
    "    print(s)\n",
    "    \n",
    "#button to access the dialog box\n",
    "b1=Button(root, text='pop', command=call)\n",
    "b1.pack()\n",
    "root.mainloop()"
   ]
  },
  {
   "cell_type": "code",
   "execution_count": 25,
   "metadata": {},
   "outputs": [],
   "source": [
    "# create a spin box\n",
    "root=Tk()\n",
    "spin1=Spinbox(root,from_=1, to=10, width=5)\n",
    "spin1.pack()\n",
    "root.mainloop()"
   ]
  },
  {
   "cell_type": "code",
   "execution_count": 26,
   "metadata": {},
   "outputs": [],
   "source": [
    "# create a label frame\n",
    "root=Tk()\n",
    "frame=LabelFrame(root,text='Input',padx=5,pady=5)\n",
    "entry=Entry(frame)\n",
    "entry.pack()\n",
    "frame.pack()\n",
    "root.mainloop()"
   ]
  },
  {
   "cell_type": "code",
   "execution_count": 31,
   "metadata": {},
   "outputs": [],
   "source": [
    "# creating multiple windows\n",
    "root=Tk()\n",
    "def news():\n",
    "    top=Toplevel()\n",
    "    b2=Button(top,text='Close',command= top.destroy)\n",
    "    b2.pack()\n",
    "    \n",
    "b1=Button(root,text='New',command= news)\n",
    "b1.pack()\n",
    "\n",
    "root.mainloop()"
   ]
  },
  {
   "cell_type": "code",
   "execution_count": null,
   "metadata": {},
   "outputs": [],
   "source": []
  }
 ],
 "metadata": {
  "kernelspec": {
   "display_name": "Python 3",
   "language": "python",
   "name": "python3"
  },
  "language_info": {
   "codemirror_mode": {
    "name": "ipython",
    "version": 3
   },
   "file_extension": ".py",
   "mimetype": "text/x-python",
   "name": "python",
   "nbconvert_exporter": "python",
   "pygments_lexer": "ipython3",
   "version": "3.7.0"
  }
 },
 "nbformat": 4,
 "nbformat_minor": 2
}
