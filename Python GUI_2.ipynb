{
 "cells": [
  {
   "cell_type": "code",
   "execution_count": 3,
   "metadata": {},
   "outputs": [],
   "source": [
    "from tkinter import *\n",
    "from tkinter import messagebox"
   ]
  },
  {
   "cell_type": "code",
   "execution_count": 9,
   "metadata": {},
   "outputs": [],
   "source": [
    "#Creating a message box\n",
    "    \n",
    "root=Tk()\n",
    "root.geometry(\"300x300+120+120\")\n",
    "# normal info message box\n",
    "def call():\n",
    "    messagebox.showinfo('Success','Installation Completed')\n",
    "\n",
    "b= Button(root,text='Message', command=call)\n",
    "b.pack()\n",
    "# an exit type message box\n",
    "def err():\n",
    "    result= messagebox.askyesnocancel('Exit','Do you want to quit?')\n",
    "    if(result=='True'):\n",
    "        root.quit()\n",
    "        \n",
    "b1= Button(root,text='Exit', command=err)\n",
    "b1.pack()\n",
    "\n",
    "root.mainloop()"
   ]
  },
  {
   "cell_type": "code",
   "execution_count": 10,
   "metadata": {},
   "outputs": [],
   "source": [
    "# Using a canvas for drawing different shapes\n",
    "root=Tk()\n",
    "root.geometry('400x400+120+120')\n",
    "# creating a canvas\n",
    "canvas=Canvas(root,width=200,height=200, bg='blue')\n",
    "canvas.pack()\n",
    "\n",
    "# drawing a line\n",
    "canvas.create_line(0,0,200,100,fill='red')\n",
    "root.mainloop()"
   ]
  },
  {
   "cell_type": "code",
   "execution_count": 11,
   "metadata": {},
   "outputs": [],
   "source": [
    "root=Tk()\n",
    "root.geometry('400x400+120+120')\n",
    "# creating a canvas\n",
    "canvas=Canvas(root,width=200,height=200, bg='blue')\n",
    "canvas.pack()\n",
    "\n",
    "# drawing a arc with an angle of 120\n",
    "canvas.create_arc(100,100,200,200,fill='red',extent=120)\n",
    "root.mainloop()"
   ]
  },
  {
   "cell_type": "code",
   "execution_count": 14,
   "metadata": {},
   "outputs": [],
   "source": [
    "root=Tk()\n",
    "root.geometry('400x400+120+120')\n",
    "# creating a canvas\n",
    "canvas=Canvas(root,width=200,height=200, bg='blue')\n",
    "canvas.pack()\n",
    "\n",
    "# drawing a rectangle\n",
    "canvas.create_rectangle(50,100,100,200,fill='red')\n",
    "root.mainloop()"
   ]
  },
  {
   "cell_type": "code",
   "execution_count": 19,
   "metadata": {},
   "outputs": [],
   "source": [
    "root=Tk()\n",
    "root.geometry('400x400+120+120')\n",
    "# creating a canvas\n",
    "canvas=Canvas(root,width=200,height=200, bg='blue')\n",
    "canvas.pack()\n",
    "\n",
    "# drawing an oval\n",
    "canvas.create_oval(50,100,100,200,fill='red')\n",
    "\n",
    "#drwaing a circle\n",
    "canvas.create_oval(20,20,80,80,fill='green')\n",
    "root.mainloop()"
   ]
  },
  {
   "cell_type": "code",
   "execution_count": 22,
   "metadata": {},
   "outputs": [],
   "source": [
    "root=Tk()\n",
    "root.geometry('600x600+120+120')\n",
    "# creating a canvas\n",
    "canvas=Canvas(root,width=500,height=500, bg='blue')\n",
    "canvas.pack()\n",
    "\n",
    "# drawing a polygon\n",
    "points=[250,110,480,200,280,280]\n",
    "canvas.create_polygon(points,fill='yellow',width=4)\n",
    "root.mainloop()"
   ]
  },
  {
   "cell_type": "code",
   "execution_count": null,
   "metadata": {},
   "outputs": [],
   "source": [
    "# adding a picture on a canvas\n",
    "root=Tk()\n",
    "root.geometry('400x400+120+120')\n",
    "# creating a canvas\n",
    "canvas=Canvas(root,width=200,height=200, bg='blue')\n",
    "canvas.pack()\n",
    "\n",
    "# creating an object of image\n",
    "photo=PhotoImage(file='C:\\Users\\Utkarsh\\Desktop\\images.png')\n",
    "canvas.create_image(0,0,image= photo, anchor= NW)\n",
    "root.mainloop()"
   ]
  },
  {
   "cell_type": "code",
   "execution_count": 31,
   "metadata": {},
   "outputs": [],
   "source": [
    "# using place() for geometry manager\n",
    "root=Tk()\n",
    "root.geometry('400x400+120+120')\n",
    "l1=Label(root,text='First')\n",
    "l2=Label(root,text='Second')\n",
    "l1.place(x=20,y=20)\n",
    "l2.place(x=20,y=40)\n",
    "root.mainloop()"
   ]
  },
  {
   "cell_type": "code",
   "execution_count": null,
   "metadata": {},
   "outputs": [],
   "source": []
  }
 ],
 "metadata": {
  "kernelspec": {
   "display_name": "Python 3",
   "language": "python",
   "name": "python3"
  }
 },
 "nbformat": 4,
 "nbformat_minor": 2
}
