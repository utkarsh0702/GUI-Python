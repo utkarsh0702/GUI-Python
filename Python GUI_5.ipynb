{
 "cells": [
  {
   "cell_type": "code",
   "execution_count": 1,
   "metadata": {},
   "outputs": [],
   "source": [
    "from tkinter import *"
   ]
  },
  {
   "cell_type": "code",
   "execution_count": 2,
   "metadata": {},
   "outputs": [],
   "source": [
    "# make a file dialog box \n",
    "from tkinter import filedialog"
   ]
  },
  {
   "cell_type": "code",
   "execution_count": 4,
   "metadata": {},
   "outputs": [],
   "source": [
    "# making a dialog box to open a file\n",
    "root=Tk()\n",
    "def file():\n",
    "    res= filedialog.askopenfile(initialdir='/',title='Select File',filetypes=((\"Text Files\",\".txt\"),(\"All files\",\".*\")))\n",
    "    print(res)\n",
    "    for c in res:\n",
    "        print(c)\n",
    "        \n",
    "b1=Button(root,text='open file',command= file)\n",
    "b1.pack()\n",
    "root.mainloop()"
   ]
  },
  {
   "cell_type": "code",
   "execution_count": 6,
   "metadata": {},
   "outputs": [],
   "source": [
    "# making a dialog box to save a file\n",
    "root=Tk()\n",
    "def file():\n",
    "    res= filedialog.asksaveasfile(mode=W, defaultextension='.txt')\n",
    "    if res is None:\n",
    "        return\n",
    "    \n",
    "    res.write('Hello Python')\n",
    "    res.close()\n",
    "        \n",
    "b1=Button(root,text='open file',command= file)\n",
    "b1.pack()\n",
    "root.mainloop()"
   ]
  },
  {
   "cell_type": "code",
   "execution_count": 7,
   "metadata": {},
   "outputs": [],
   "source": [
    "# making a colour chooser\n",
    "from tkinter import colorchooser"
   ]
  },
  {
   "cell_type": "code",
   "execution_count": 8,
   "metadata": {},
   "outputs": [
    {
     "name": "stdout",
     "output_type": "stream",
     "text": [
      "((128.5, 0.0, 128.5), '#800080')\n",
      "(None, None)\n"
     ]
    }
   ],
   "source": [
    "# making a colour chooser and applying that clour to the background of the root window\n",
    "root=Tk()\n",
    "def call():\n",
    "    clr= colorchooser.askcolor(title='Colour')\n",
    "    print(clr)\n",
    "    root.configure(background= clr[1])\n",
    "        \n",
    "b1=Button(root,text='open file',command= call)\n",
    "b1.pack()\n",
    "root.mainloop()"
   ]
  },
  {
   "cell_type": "code",
   "execution_count": 9,
   "metadata": {},
   "outputs": [],
   "source": [
    "#binding shortcut keys to the program\n",
    "from tkinter import messagebox"
   ]
  },
  {
   "cell_type": "code",
   "execution_count": 10,
   "metadata": {},
   "outputs": [],
   "source": [
    "root=Tk()\n",
    "def call(event=''):\n",
    "    messagebox.showinfo('Trying','This is important....')\n",
    "        \n",
    "root.bind(\"<Control-c>\",call)\n",
    "b1=Button(root,text='open file',command= call)\n",
    "b1.pack()\n",
    "root.mainloop()"
   ]
  },
  {
   "cell_type": "code",
   "execution_count": null,
   "metadata": {},
   "outputs": [],
   "source": []
  }
 ],
 "metadata": {
  "kernelspec": {
   "display_name": "Python 3",
   "language": "python",
   "name": "python3"
  },
  "language_info": {
   "codemirror_mode": {
    "name": "ipython",
    "version": 3
   },
   "file_extension": ".py",
   "mimetype": "text/x-python",
   "name": "python",
   "nbconvert_exporter": "python",
   "pygments_lexer": "ipython3",
   "version": "3.7.0"
  }
 },
 "nbformat": 4,
 "nbformat_minor": 2
}
