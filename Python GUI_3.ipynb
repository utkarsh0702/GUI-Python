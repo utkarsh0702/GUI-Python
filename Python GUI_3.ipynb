{
 "cells": [
  {
   "cell_type": "code",
   "execution_count": 1,
   "metadata": {},
   "outputs": [],
   "source": [
    "from tkinter import *"
   ]
  },
  {
   "cell_type": "code",
   "execution_count": 4,
   "metadata": {},
   "outputs": [
    {
     "name": "stdout",
     "output_type": "stream",
     "text": [
      "Hello Python\n"
     ]
    }
   ],
   "source": [
    "#Creating a entry box and showing the written content\n",
    "root=Tk()\n",
    "def call():\n",
    "    print(entry.get())\n",
    "entry= Entry(root)\n",
    "entry.pack()\n",
    "b1=Button(root, text=\"Click\",command= call)\n",
    "b1.pack()\n",
    "root.mainloop()"
   ]
  },
  {
   "cell_type": "code",
   "execution_count": 7,
   "metadata": {},
   "outputs": [
    {
     "name": "stdout",
     "output_type": "stream",
     "text": [
      "0\n",
      "1\n"
     ]
    }
   ],
   "source": [
    "#Creating a Check Box and printing the checked data\n",
    "root=Tk()\n",
    "def call():\n",
    "    print(i.get())\n",
    "i= IntVar()\n",
    "c1= Checkbutton(root, text=\"Item 1\",variable=i)\n",
    "c1.pack()\n",
    "#Creating a button to show the item of checkbox\n",
    "b1= Button(root, text='Click',command= call)\n",
    "b1.pack()\n",
    "root.mainloop()"
   ]
  },
  {
   "cell_type": "code",
   "execution_count": 11,
   "metadata": {},
   "outputs": [
    {
     "name": "stdout",
     "output_type": "stream",
     "text": [
      "Male\n",
      "Female\n"
     ]
    }
   ],
   "source": [
    "# creating a Radio Button and accessing male female radio button\n",
    "root=Tk()\n",
    "def call():\n",
    "    if (i.get()==1):\n",
    "        print('Male')\n",
    "    else:\n",
    "        print('Female')\n",
    "\n",
    "i=IntVar()\n",
    "r1= Radiobutton(root,text=\"Male\",value=1,variable=i)\n",
    "r2= Radiobutton(root,text='Female',value=2,variable=i)\n",
    "r1.pack()\n",
    "r2.pack()\n",
    "#Creating a button to show the item of radio button\n",
    "b1= Button(root, text='Click',command= call)\n",
    "b1.pack()\n",
    "root.mainloop()"
   ]
  },
  {
   "cell_type": "code",
   "execution_count": 23,
   "metadata": {},
   "outputs": [
    {
     "name": "stdout",
     "output_type": "stream",
     "text": [
      "4 Python\n",
      "4 Python\n",
      "7 JavaScript\n"
     ]
    }
   ],
   "source": [
    "# Creating a list box of different computer languages\n",
    "root=Tk()\n",
    "root.geometry('400x400+120+120')\n",
    "root.title('List Box')\n",
    "\n",
    "#function to access the list box\n",
    "def call():\n",
    "    res=l.curselection()\n",
    "    for i in res:\n",
    "        print(str(i+1)+' '+l.get(i))\n",
    "    \n",
    "# function to delete\n",
    "def delete():\n",
    "    res=l.curselection()\n",
    "    for i in res:\n",
    "        l.delete(i)\n",
    "\n",
    "# list box with select modes\n",
    "l=Listbox(root,width=20,height=10,selectmode=MULTIPLE)\n",
    "l.insert(1,'C')\n",
    "l.insert(2,'C++')\n",
    "l.insert(3,'Java')\n",
    "l.insert(4,'Python')\n",
    "l.insert(5,'HTML')\n",
    "l.insert(6,'CSS')\n",
    "l.insert(7,'JavaScript')\n",
    "l.pack()\n",
    "#creating a button to access the list\n",
    "b1= Button(root,text='Show',command= call)\n",
    "b1.pack()\n",
    "\n",
    "# button to delete the element from the list\n",
    "b2= Button(root, text='Delete', command= delete)\n",
    "b2.pack()\n",
    "root.mainloop()"
   ]
  },
  {
   "cell_type": "code",
   "execution_count": 24,
   "metadata": {},
   "outputs": [],
   "source": [
    "from tkinter.ttk import *"
   ]
  },
  {
   "cell_type": "code",
   "execution_count": 26,
   "metadata": {},
   "outputs": [
    {
     "name": "stdout",
     "output_type": "stream",
     "text": [
      "CSS\n",
      "C++\n",
      "C++\n",
      "Java\n"
     ]
    }
   ],
   "source": [
    "#creating a combo box\n",
    "root=Tk()\n",
    "root.title('Combo Box')\n",
    "\n",
    "# function to show elements of combo box\n",
    "def call():\n",
    "    print(combo.get())\n",
    "\n",
    "root.geometry('400x400+120+120')\n",
    "v=['C','C++','Java','Python','HTML','CSS','JavaScript']\n",
    "combo=Combobox(root,values=v, height=3)\n",
    "combo.pack()\n",
    "\n",
    "#creating a button\n",
    "b1= Button(root,text='Click',command=call)\n",
    "b1.pack()\n",
    "root.mainloop()\n"
   ]
  },
  {
   "cell_type": "code",
   "execution_count": 27,
   "metadata": {},
   "outputs": [],
   "source": [
    "from tkinter.font import Font"
   ]
  },
  {
   "cell_type": "code",
   "execution_count": 34,
   "metadata": {},
   "outputs": [],
   "source": [
    "# using font\n",
    "root=Tk()\n",
    "my_font=Font(size=20,family='Times New Roman',weight='bold', slant='italic',underline=1,overstrike=1)\n",
    "l1= Label(root,text=\"Hello Python\",font=my_font).pack()\n",
    "root.mainloop()"
   ]
  },
  {
   "cell_type": "code",
   "execution_count": null,
   "metadata": {},
   "outputs": [],
   "source": []
  }
 ],
 "metadata": {
  "kernelspec": {
   "display_name": "Python 3",
   "language": "python",
   "name": "python3"
  },
  "language_info": {
   "codemirror_mode": {
    "name": "ipython",
    "version": 3
   },
   "file_extension": ".py",
   "mimetype": "text/x-python",
   "name": "python",
   "nbconvert_exporter": "python",
   "pygments_lexer": "ipython3",
   "version": "3.7.0"
  }
 },
 "nbformat": 4,
 "nbformat_minor": 2
}
